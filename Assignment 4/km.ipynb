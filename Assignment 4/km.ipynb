{
 "cells": [
  {
   "cell_type": "code",
   "execution_count": 1,
   "id": "31f8c7af",
   "metadata": {},
   "outputs": [],
   "source": [
    "# kmeans clustering using python\n",
    "\n",
    "import numpy as np\n",
    "import matplotlib.pyplot as plt\n",
    "import pandas as pd"
   ]
  },
  {
   "cell_type": "code",
   "execution_count": 2,
   "id": "b95059f3",
   "metadata": {},
   "outputs": [
    {
     "data": {
      "text/plain": [
       "[[0.1, 0.6],\n",
       " [0.15, 0.71],\n",
       " [0.08, 0.9],\n",
       " [0.16, 0.85],\n",
       " [0.2, 0.3],\n",
       " [0.25, 0.5],\n",
       " [0.24, 0.1],\n",
       " [0.3, 0.2]]"
      ]
     },
     "execution_count": 2,
     "metadata": {},
     "output_type": "execute_result"
    }
   ],
   "source": [
    "\n",
    "X=[[0.1,0.6],[0.15,0.71],[0.08,0.9],[0.16,0.85],[0.2,0.3],[0.25,0.5],[0.24,0.1],[0.3,0.2]]\n",
    "X"
   ]
  },
  {
   "cell_type": "code",
   "execution_count": 3,
   "id": "e549f00f",
   "metadata": {},
   "outputs": [
    {
     "name": "stdout",
     "output_type": "stream",
     "text": [
      "Initial Centroids:\n",
      " [[0.1 0.6]\n",
      " [0.3 0.2]]\n"
     ]
    }
   ],
   "source": [
    "\n",
    "centers=np.array([[0.1,0.6],[0.3,0.2]])\n",
    "print('Initial Centroids:\\n',centers)"
   ]
  },
  {
   "cell_type": "code",
   "execution_count": 4,
   "id": "ca30749e",
   "metadata": {},
   "outputs": [
    {
     "data": {
      "text/plain": [
       "KMeans(init=array([[0.1, 0.6],\n",
       "       [0.3, 0.2]]), n_clusters=2, n_init=1)"
      ]
     },
     "execution_count": 4,
     "metadata": {},
     "output_type": "execute_result"
    }
   ],
   "source": [
    "\n",
    "from sklearn.cluster import KMeans\n",
    "\n",
    "model=KMeans(n_clusters=2,init=centers,n_init=1)\n",
    "model.fit(X)"
   ]
  },
  {
   "cell_type": "code",
   "execution_count": 5,
   "id": "5e3f8133",
   "metadata": {},
   "outputs": [
    {
     "name": "stdout",
     "output_type": "stream",
     "text": [
      "Labels: [0 0 0 0 1 0 1 1]\n"
     ]
    }
   ],
   "source": [
    "\n",
    "print('Labels:',model.labels_)"
   ]
  },
  {
   "cell_type": "markdown",
   "id": "b6c45ff5",
   "metadata": {},
   "source": [
    "# 1)Which cluster does P6 belongs to?"
   ]
  },
  {
   "cell_type": "code",
   "execution_count": 6,
   "id": "bce515b2",
   "metadata": {},
   "outputs": [
    {
     "name": "stdout",
     "output_type": "stream",
     "text": [
      "P6 belongs to cluster 0\n"
     ]
    }
   ],
   "source": [
    "\n",
    "print('P6 belongs to cluster',model.labels_[5])\n"
   ]
  },
  {
   "cell_type": "markdown",
   "id": "bc46e6d5",
   "metadata": {},
   "source": [
    "\n",
    "# 2)What is the population of cluster around m2?"
   ]
  },
  {
   "cell_type": "code",
   "execution_count": 7,
   "id": "be41d096",
   "metadata": {},
   "outputs": [
    {
     "name": "stdout",
     "output_type": "stream",
     "text": [
      "No of Population around clusters 2 : 3\n"
     ]
    }
   ],
   "source": [
    "\n",
    "print('No of Population around clusters 2 :',np.count_nonzero(model.labels_==1))\n"
   ]
  },
  {
   "cell_type": "markdown",
   "id": "7b6cca9b",
   "metadata": {},
   "source": [
    "# 3)What is updated value of m1 and m2?"
   ]
  },
  {
   "cell_type": "code",
   "execution_count": 8,
   "id": "7f2cd907",
   "metadata": {},
   "outputs": [
    {
     "name": "stdout",
     "output_type": "stream",
     "text": [
      "New Centriods:\n",
      " [[0.148      0.712     ]\n",
      " [0.24666667 0.2       ]]\n"
     ]
    }
   ],
   "source": [
    "print('New Centriods:\\n',model.cluster_centers_)\n"
   ]
  },
  {
   "cell_type": "code",
   "execution_count": 9,
   "id": "8f864ab3",
   "metadata": {},
   "outputs": [
    {
     "data": {
      "text/plain": [
       "array([[0.1, 0.6],\n",
       "       [0.3, 0.2]])"
      ]
     },
     "execution_count": 9,
     "metadata": {},
     "output_type": "execute_result"
    }
   ],
   "source": [
    "\n",
    "centers"
   ]
  },
  {
   "cell_type": "code",
   "execution_count": null,
   "id": "f370f83f",
   "metadata": {},
   "outputs": [],
   "source": []
  }
 ],
 "metadata": {
  "kernelspec": {
   "display_name": "Python 3 (ipykernel)",
   "language": "python",
   "name": "python3"
  },
  "language_info": {
   "codemirror_mode": {
    "name": "ipython",
    "version": 3
   },
   "file_extension": ".py",
   "mimetype": "text/x-python",
   "name": "python",
   "nbconvert_exporter": "python",
   "pygments_lexer": "ipython3",
   "version": "3.8.5"
  }
 },
 "nbformat": 4,
 "nbformat_minor": 5
}
